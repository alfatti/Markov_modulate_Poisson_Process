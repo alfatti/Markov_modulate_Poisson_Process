{
  "nbformat": 4,
  "nbformat_minor": 0,
  "metadata": {
    "colab": {
      "name": "Quadratic_Hedging_SABR.ipynb",
      "provenance": []
    },
    "kernelspec": {
      "name": "python3",
      "display_name": "Python 3"
    },
    "language_info": {
      "name": "python"
    }
  },
  "cells": [
    {
      "cell_type": "markdown",
      "source": [
        "#### Approximation of Bartlett's Delta with deep stochastic optimization as the optimal solution to the Quadratic Hedging (QH) problem in the case of log-normal SABR dynamics."
      ],
      "metadata": {
        "id": "_0_ACv2PI3Jz"
      }
    },
    {
      "cell_type": "markdown",
      "source": [
        "- Let $S_t$ be the stock price and $C_t$ be the price of a contingent claim with maturity T.\n",
        "- For simplicity we set interest rates to zero and we assume that there exists a risk neutral measure $Q$ under which both $S$ and $C$ are martingales.\n",
        "-  Let $\\theta$ be a strategy to hedge the payoff $C_T$.\n",
        "-  Then we can write $$C_t = w+\\int_0^t\\theta_udS_u+L_t,$$\n",
        "where $w$ is the initial capital and $L$ is the hedging error.\n",
        "- In a complete market (Black-Scholes), the perfect hedging strategy $\\theta^{\\text{perf}}$ exists such that $L_T=0$,\n",
        "- In an incomplete market such as SABR, there is no perfect hedging strategy."
      ],
      "metadata": {
        "id": "KXrx91PQGVj2"
      }
    },
    {
      "cell_type": "markdown",
      "source": [
        "### Quadratic Hedging\n",
        "- aims to find the initial capital and the variance-optimal strategy $\\theta^{VO}$ that solves\n",
        "$$min_{\\text{strategies}}E^{Q}\\left[\\left(C_T-w-\\int_0^T\\theta_udS_u\\right)^2\\right]$$"
      ],
      "metadata": {
        "id": "6sw_hW33H5R4"
      }
    },
    {
      "cell_type": "markdown",
      "source": [
        "### SABR Model\n"
      ],
      "metadata": {
        "id": "bHub05QZImoU"
      }
    },
    {
      "cell_type": "markdown",
      "source": [
        "- Let $C$ is the price process of a call option with maturity\n",
        "$T$ and strike price $K$. To the call-price $C_t$ we can associate its (time-t) implied volatility $\\Sigma_t$ and rewrite $C_t$ as\n",
        "$$C_t = c_{\\text{BS}}(T-t,S_t,\\Sigma_t),$$\n",
        "where $c_{\\text{BS}}$ is the Black-Scholes price in dependence on time-to-maturity, underlying and implied\n",
        "volatility.\n",
        "\n",
        "- The SABR model with $\\beta=1$ is given by,\n",
        "$$dS_t=S_t\\alpha_tdB_t$$\n",
        "$$d\\alpha_t=\\frac{\\eta}{2}\\alpha_tdW_t,$$\n",
        "where $d<B,W>=\\rho dt$ for $\\rho\\in[-1,1]$.\n",
        "- An aproximation $\\hat{\\Sigma}$ of the implied volatility for SABR is given by,\n",
        "$$\\hat{\\Sigma}_t=\\alpha_tf(Y_t),~~~Y_t=\\frac{\\eta}{\\alpha_t}log\\left(K/S_t\\right),$$\n",
        "where $f$ is given by\n",
        "$$f(y)=\\frac{y}{g(y)},~~~g(y)=-2log\\left(\\frac{\\sqrt{1+\\rho y+y^2/4}-\\rho-y/2}{1-\\rho}\\right)$$"
      ],
      "metadata": {
        "id": "2VSZbSlDJfle"
      }
    },
    {
      "cell_type": "markdown",
      "source": [
        "#### Bartlett's Delta\n",
        "it is shown in ([this paper](https://arxiv.org/abs/2207.13573)) that the Bartlett's Delta (with $\\Sigma$ replaced by $\\hat{\\Sigma}$),\n",
        "$$\\theta_t^{\\text{Bartlett}}=\\hat{\\text{Delta}}_t+\\hat{\\text{Vega}}_t\\left(\\frac{\\rho}{2\\eta}\\frac{\\partial \\hat{\\Sigma}_t}{\\partial\\alpha}+\\frac{\\partial\\hat{\\Sigma}_t}{\\partial S}\\right)$$\n",
        "is the optimal solution for the above QH problem under the SABR model for the stock dynamics."
      ],
      "metadata": {
        "id": "n7TZxGgfJfve"
      }
    },
    {
      "cell_type": "markdown",
      "source": [
        "### SABR model specification"
      ],
      "metadata": {
        "id": "NXklpz_qxd8K"
      }
    },
    {
      "cell_type": "code",
      "source": [
        "import numpy as np\n",
        "import scipy.stats as stats\n",
        "import torch\n",
        "import torch.nn as nn\n",
        "import torch.nn.functional as F\n",
        "from tqdm import tqdm\n",
        "import random\n",
        "from scipy.stats import norm\n",
        "import matplotlib.pyplot as plt"
      ],
      "metadata": {
        "id": "NBEUGBh4H22S"
      },
      "execution_count": null,
      "outputs": []
    },
    {
      "cell_type": "code",
      "source": [
        "\"\"\" Utility Functions \"\"\"\n",
        "\n",
        "random.seed(1)\n",
        "\n",
        "def brownian_sim(num_path, num_period, mu, std, init_p, dt):\n",
        "    z = np.random.normal(size=(num_path, num_period))\n",
        "\n",
        "    a_price = np.zeros((num_path, num_period))\n",
        "    a_price[:, 0] = init_p\n",
        "\n",
        "    for t in range(num_period - 1):\n",
        "        a_price[:, t + 1] = a_price[:, t] * np.exp(\n",
        "            (mu - (std ** 2) / 2) * dt + std * np.sqrt(dt) * z[:, t]\n",
        "        )\n",
        "    return a_price\n",
        "\n",
        "\n",
        "# BSM Call Option Pricing Formula & BS Delta formula\n",
        "# T here is time to maturity\n",
        "def bs_call(iv, T, S, K, r, q):\n",
        "    d1 = (np.log(S / K) + (r - q + iv * iv / 2) * T) / (iv * np.sqrt(T))\n",
        "    d2 = d1 - iv * np.sqrt(T)\n",
        "    bs_price = S * np.exp(-q * T) * norm.cdf(d1) - K * np.exp(-r * T) * norm.cdf(d2)\n",
        "    bs_delta = np.exp(-q * T) * norm.cdf(d1)\n",
        "    return bs_price, bs_delta\n",
        "\n",
        "\n",
        "def get_sim_path(M, freq, np_seed, num_sim):\n",
        "    \"\"\" Return simulated data: a tuple of three arrays\n",
        "        M: initial time to maturity\n",
        "        freq: trading freq in unit of day, e.g. freq=2: every 2 day; freq=0.5 twice a day;\n",
        "        np_seed: numpy random seed\n",
        "        num_sim: number of simulation path\n",
        "        1) asset price paths (num_path x num_period)\n",
        "        2) option price paths (num_path x num_period)\n",
        "        3) delta (num_path x num_period)\n",
        "    \"\"\"\n",
        "    # set the np random seed\n",
        "    # np.random.seed(np_seed)\n",
        "\n",
        "    # Trading Freq per day; passed from function parameter\n",
        "    # freq = 2\n",
        "\n",
        "    # Annual Trading Day\n",
        "    T = 250\n",
        "\n",
        "    # Simulation Time Step\n",
        "    dt = 0.004 * freq\n",
        "\n",
        "    # Option Day to Maturity; passed from function parameter\n",
        "    # M = 60\n",
        "\n",
        "    # Number of period\n",
        "    num_period = int(M / freq)\n",
        "\n",
        "    # Number of simulations; passed from function parameter\n",
        "    # num_sim = 1000000\n",
        "\n",
        "    # Annual Return\n",
        "    mu = 0.05\n",
        "\n",
        "    # Annual Volatility\n",
        "    vol = 0.2\n",
        "\n",
        "    # Initial Asset Value\n",
        "    S = 100\n",
        "\n",
        "    # Option Strike Price\n",
        "    K = 100\n",
        "\n",
        "    # Annual Risk Free Rate\n",
        "    r = 0\n",
        "\n",
        "    # Annual Dividend\n",
        "    q = 0\n",
        "\n",
        "    # asset price 2-d array\n",
        "    print(\"1. generate asset price paths\")\n",
        "    a_price = brownian_sim(num_sim, num_period + 1, mu, vol, S, dt)\n",
        "\n",
        "    # time to maturity \"rank 1\" array: e.g. [M, M-1, ..., 0]\n",
        "    ttm = np.arange(M, -freq, -freq)\n",
        "\n",
        "    # BS price 2-d array and bs delta 2-d array\n",
        "    print(\"2. generate BS price and delta\")\n",
        "    bs_price, bs_delta = bs_call(vol, ttm / T, a_price, K, r, q)\n",
        "\n",
        "    print(\"simulation done!\")\n",
        "\n",
        "    return a_price, bs_price, bs_delta\n",
        "\n",
        "\n",
        "def sabr_sim(num_path, num_period, mu, std, init_p, dt, rho, beta, volvol):\n",
        "    qs = np.random.normal(size=(num_path, num_period))\n",
        "    qi = np.random.normal(size=(num_path, num_period))\n",
        "    qv = rho * qs + np.sqrt(1 - rho * rho) * qi\n",
        "\n",
        "    vol = np.zeros((num_path, num_period))\n",
        "    vol[:, 0] = std\n",
        "\n",
        "    a_price = np.zeros((num_path, num_period))\n",
        "    a_price[:, 0] = init_p\n",
        "\n",
        "    for t in range(num_period - 1):\n",
        "        gvol = vol[:, t] * (a_price[:, t] ** (beta - 1))\n",
        "        a_price[:, t + 1] = a_price[:, t] * np.exp(\n",
        "            (mu - (gvol ** 2) / 2) * dt + gvol * np.sqrt(dt) * qs[:, t]\n",
        "        )\n",
        "        vol[:, t + 1] = vol[:, t] * np.exp(\n",
        "            -volvol * volvol * 0.5 * dt + volvol * qv[:, t] * np.sqrt(dt)\n",
        "        )\n",
        "\n",
        "    return a_price, vol\n",
        "\n",
        "\n",
        "def sabr_implied_vol(vol, T, S, K, r, q, beta, volvol, rho):\n",
        "\n",
        "    F = S * np.exp((r - q) * T)\n",
        "    x = (F * K) ** ((1 - beta) / 2)\n",
        "    y = (1 - beta) * np.log(F / K)\n",
        "    A = vol / (x * (1 + y * y / 24 + y * y * y * y / 1920))\n",
        "    B = 1 + T * (\n",
        "        ((1 - beta) ** 2) * (vol * vol) / (24 * x * x)\n",
        "        + rho * beta * volvol * vol / (4 * x)\n",
        "        + volvol * volvol * (2 - 3 * rho * rho) / 24\n",
        "    )\n",
        "    Phi = (volvol * x / vol) * np.log(F / K)\n",
        "    Chi = np.log((np.sqrt(1 - 2 * rho * Phi + Phi * Phi) + Phi - rho) / (1 - rho))\n",
        "\n",
        "    SABRIV = np.where(F == K, vol * B / (F ** (1 - beta)), A * B * Phi / Chi)\n",
        "\n",
        "    return SABRIV\n",
        "\n",
        "\n",
        "def bartlett(sigma, T, S, K, r, q, ds, beta, volvol, rho):\n",
        "\n",
        "    dsigma = ds * volvol * rho / (S ** beta)\n",
        "\n",
        "    vol1 = sabr_implied_vol(sigma, T, S, K, r, q, beta, volvol, rho)\n",
        "    vol2 = sabr_implied_vol(sigma + dsigma, T, S + ds, K, r, q, beta, volvol, rho)\n",
        "\n",
        "    bs_price1, _ = bs_call(vol1, T, S, K, r, q)\n",
        "    bs_price2, _ = bs_call(vol2, T, S+ds, K, r, q)\n",
        "\n",
        "    b_delta = (bs_price2 - bs_price1) / ds\n",
        "\n",
        "    return b_delta\n",
        "\n",
        "def bs_call(iv, T, S, K, r, q):\n",
        "    d1 = (np.log(S / K) + (r - q + iv * iv / 2) * T) / (iv * np.sqrt(T))\n",
        "    d2 = d1 - iv * np.sqrt(T)\n",
        "    bs_price = S * np.exp(-q * T) * norm.cdf(d1) - K * np.exp(-r * T) * norm.cdf(d2)\n",
        "    bs_delta = np.exp(-q * T) * norm.cdf(d1)\n",
        "    return bs_price, bs_delta\n",
        "\n",
        "\n"
      ],
      "metadata": {
        "id": "QxMj5T0MwV0Y"
      },
      "execution_count": null,
      "outputs": []
    },
    {
      "cell_type": "code",
      "source": [
        "def get_sim_path_sabr(S_0, mu, vol, r, K, M, freq, num_sim):\n",
        "    \"\"\" Return simulated data: a tuple of four arrays\n",
        "        S:Initial Asset Value\n",
        "        mu: Annual Return\n",
        "        vol:  Annual Volatility\n",
        "        r: Annual Risk Free Rate\n",
        "        K: Option Strike Price\n",
        "        M: time to maturity\n",
        "        freq: trading freq in unit of day, e.g. freq=2: every 2 day; freq=0.5 twice a day;\n",
        "        np_seed: numpy random seed\n",
        "        num_sim: number of simulation path\n",
        "        1) asset price paths (num_path x num_period)\n",
        "        2) option price paths (num_path x num_period)\n",
        "        3) bs delta (num_path x num_period)\n",
        "        4) bartlett delta (num_path x num_period)\n",
        "    \"\"\"\n",
        "    # set the np random seed\n",
        "    # np.random.seed(1234)\n",
        "\n",
        "    # Annual Trading Day\n",
        "    T = 252\n",
        "\n",
        "    # Simulation Time Step\n",
        "    dt = 0.004 * freq\n",
        "\n",
        "    # Option Day to Maturity; passed from function parameter\n",
        "    # M = 60\n",
        "\n",
        "    # Number of period\n",
        "    num_period = int(M / freq)\n",
        "\n",
        "    # Annual Dividend\n",
        "    q = 0\n",
        "\n",
        "    # SABR parameters\n",
        "    beta = 1\n",
        "    rho = 0.96\n",
        "    volvol = 0.95\n",
        "    ds = 0.001\n",
        "\n",
        "    # asset price 2-d array; sabr_vol\n",
        "    #print(\"1. generate asset price paths (sabr)\")\n",
        "    a_price, sabr_vol = sabr_sim(\n",
        "        num_sim, num_period + 1, mu, vol, S_0, dt, rho, beta, volvol\n",
        "    )\n",
        "\n",
        "    # time to maturity \"rank 1\" array: e.g. [M, M-1, ..., 0]\n",
        "    ttm = np.arange(M, -freq, -freq)\n",
        "\n",
        "    # BS price 2-d array and bs delta 2-d array\n",
        "    #print(\"2. generate BS price, BS delta, and Bartlett delta\")\n",
        "\n",
        "    # sabr implied vol\n",
        "    implied_vol = sabr_implied_vol(\n",
        "        sabr_vol, ttm / T, a_price, K, r, q, beta, volvol, rho\n",
        "    )\n",
        "\n",
        "    bs_price, bs_delta = bs_call(implied_vol, ttm / T, a_price, K, r, q)\n",
        "\n",
        "    bartlett_delta = bartlett(sabr_vol, ttm / T, a_price, K, r, q, ds, beta, volvol, rho)\n",
        "\n",
        "    #print(\"simulation done!\")\n",
        "\n",
        "    return a_price, bs_price, bs_delta, bartlett_delta"
      ],
      "metadata": {
        "id": "sgRk3mjW42zJ"
      },
      "execution_count": null,
      "outputs": []
    },
    {
      "cell_type": "markdown",
      "source": [
        "### Setting up the Computation Graph"
      ],
      "metadata": {
        "id": "rXGRbxVK0SYC"
      }
    },
    {
      "cell_type": "code",
      "source": [
        "#initialization of parameters\n",
        "def weights_init_uniform_rule(m):\n",
        "        classname = m.__class__.__name__\n",
        "        # for every Linear layer in a model..\n",
        "        if classname.find('nn.Linear') != -1:\n",
        "            # get the number of the inputs\n",
        "            n = m.in_features\n",
        "            y = 1.0/np.sqrt(n)\n",
        "            m.weight.data.uniform_(-y, y)\n",
        "            m.bias.data.fill_(0)\n",
        "\n",
        "### Networks\n",
        "class Phi_Dot_0(nn.Module):\n",
        "    def __init__(self):\n",
        "        super(Phi_Dot_0, self).__init__()\n",
        "        self.phi_Dot_0 = nn.Linear(1, 1)\n",
        "    def forward(self, x):\n",
        "        return self.phi_Dot_0(x)\n",
        "\n",
        "\n",
        "class RL_Net(nn.Module):\n",
        "    def __init__(self,INPUT_DIM,OUTPUT_DIM,HIDDEN_DIM):\n",
        "        super(RL_Net, self).__init__()\n",
        "        self.input_dim = INPUT_DIM\n",
        "        self.output_dim = OUTPUT_DIM\n",
        "        self.hidden_dim = HIDDEN_DIM\n",
        "        current_dim = self.input_dim\n",
        "        self.layers = nn.ModuleList()\n",
        "        self.bn = nn.ModuleList()\n",
        "        self.droupout = nn.ModuleList() #drop out layer for regularization\n",
        "        for hdim in self.hidden_dim:\n",
        "            self.layers.append(nn.Linear(int(current_dim), int(hdim)))\n",
        "            self.bn.append(nn.BatchNorm1d(int(hdim)))\n",
        "            self.droupout.append(nn.Dropout(0.25)) # add a dropout layer\n",
        "            current_dim = hdim\n",
        "        self.layers.append(nn.Linear(int(current_dim), int(self.output_dim)))\n",
        "    def forward(self, x):\n",
        "        for i, layer in enumerate(self.layers[:-1]):\n",
        "            x = layer(x.float())\n",
        "            x = self.bn[i](x)\n",
        "            x = F.relu(x)\n",
        "        out = self.layers[-1](x)\n",
        "        return out\n"
      ],
      "metadata": {
        "id": "ToWEVODHwV3d"
      },
      "execution_count": null,
      "outputs": []
    },
    {
      "cell_type": "code",
      "source": [
        "def Mean_Utility(S,C,D,PHI,PHI_dot,LAM,kappa,TIME,time_step,n_samples):\n",
        "    \"\"\"Calculate the average loss for the batch\n",
        "    S: Stock prices (BATCH_SIZE,TIME_STEP)\n",
        "    C: Option prices (BATCH_SIZE,TIME_STEP)\n",
        "    D: Option Deltas (BATCH_SIZE,TIME_STEP)\n",
        "    PHI: Hedging strategy(BATCH_SIZE,TIME_STEP+1)\n",
        "    PHI_dot: rebalancing rate(BATCH,TIME_STEP)\n",
        "    LAM: Risk aversion parameter\n",
        "    TIME: Time horizon T\"\"\"\n",
        "    delta_t = TIME/time_step\n",
        "    cf_mat = torch.zeros((n_samples,time_step+1)) #cash flow matrix\n",
        "    cf_mat[:,0] = -kappa*torch.abs(torch.mul(S[:,0],PHI[:,0]))\n",
        "    for i in torch.arange(1,time_step):\n",
        "        cf_mat[:,i] = PHI[:,i]*(S[:,i]-S[:,i-1])-kappa*torch.abs(S[:,i]*PHI_dot[:,i]*delta_t)\n",
        "    cf_mat[:,-1] = cf_mat[:,-1]-kappa*torch.abs(S[:,-1]*PHI[:,-1])\n",
        "    loss_mat = (torch.sum(cf_mat,dim=1)-C[:,-1])**2 #loss_mat.shape =(n_samples,)\n",
        "    return torch.mean(loss_mat), cf_mat"
      ],
      "metadata": {
        "id": "91dLg0GHwV6g"
      },
      "execution_count": null,
      "outputs": []
    },
    {
      "cell_type": "code",
      "source": [
        "def calculate_Bartlett_pnl(S,C,D,kappa,TIME,time_step,n_samples):\n",
        "    \"\"\"Calculate the average loss for the batch\n",
        "    S: Stock prices (BATCH_SIZE,TIME_STEP)\n",
        "    C: Option prices (BATCH_SIZE,TIME_STEP)\n",
        "    D: Option Bartlett Deltas (BATCH_SIZE,TIME_STEP)\n",
        "    # PHI: Hedging strategy(BATCH_SIZE,TIME_STEP+1)- only PHI[:,0] used\n",
        "    LAM: Risk aversion parameter\n",
        "    TIME: Time horizon T\"\"\"\n",
        "\n",
        "\n",
        "    # PHI = torch.zeros((n_samples, time_step + 1))\n",
        "    # PHI_0=torch.ones(n_samples)*PHI_INITIAL\n",
        "    # PHI[:,0] = PHI_0.reshape((-1,))\n",
        "    # PHI_dot = torch.zeros((n_samples, time_step ))\n",
        "    delta_t = TIME/time_step\n",
        "    cf_mat = torch.zeros((n_samples,time_step+1))\n",
        "    cf_mat[:,0] = -kappa*torch.abs(torch.mul(S[:,0],D[:,0]))\n",
        "    print(cf_mat.shape)\n",
        "    for i in torch.arange(1,time_step):\n",
        "        cf_mat[:,i] = torch.mul(D[:,i-1],(S[:,i]-S[:,i-1]))-kappa*torch.abs(S[:,i]*(D[:,i]-D[:,i-1]))\n",
        "    cf_mat[:,-1] = cf_mat[:,-1]-kappa*torch.abs(S[:,-1]*D[:,-1])\n",
        "    pnl_mat = torch.sum(cf_mat,dim=1)-C[:,-1]\n",
        "    return pnl_mat"
      ],
      "metadata": {
        "id": "S8zxOHX-Vw8a"
      },
      "execution_count": null,
      "outputs": []
    },
    {
      "cell_type": "code",
      "source": [
        "def TRAIN_Utility(S_0,vol,mu,ir,K,PHI_INITIAL,LAM,kappa,TIME,EPOCH,n_samples,time_step,HIDDEN_DIM_Utility,LR_Utility = 0.001,saving=0,LR_Adjust=dict(),OPT_Utility=\"ADAM\",SEED_Utility1=0,SEED_Utility2=0):\n",
        "\n",
        "    \"\"\"\n",
        "    n_samples: path size of the Brownian Motion\n",
        "    time_step: discretization step\n",
        "    LR_Utility: initial learning rate\n",
        "    saving: list, to indicate at which epoch should have the models be saved to the path_temp\n",
        "         saving=0 means no saving\n",
        "    LR_Adjust: a dictoinary in which the value is the absolute DECAY,\n",
        "          and the key is the epoch corresponding to the updated learning rate\n",
        "    OPT_Utility: \"ADAM\" or \"SGD\"\n",
        "    \"\"\"\n",
        "    model_list_Utility = []\n",
        "    i = 0\n",
        "    while i <= time_step:\n",
        "        model = RL_Net(INPUT_DIM_Utility,OUTPUT_DIM,HIDDEN_DIM_Utility)\n",
        "        model.apply(weights_init_uniform_rule)\n",
        "        model_list_Utility.append(model)\n",
        "        i += 1\n",
        "    if OPT_Utility==\"SGD\":\n",
        "        optimizer_Utility = torch.optim.SGD((par for model in model_list_Utility\n",
        "                        for par in model.parameters()),\n",
        "                                lr=LR_Utility)\n",
        "    if OPT_Utility==\"ADAM\":\n",
        "        optimizer_Utility = torch.optim.Adam((par for model in model_list_Utility\n",
        "                        for par in model.parameters()),\n",
        "                        lr=LR_Utility, betas=(0.9, 0.99))\n",
        "\n",
        "    loss_arr_Utility = []\n",
        "    PHI_0=torch.ones(n_samples)*PHI_INITIAL\n",
        "    DUMMY_1 = torch.ones(n_samples).reshape((n_samples, 1))\n",
        "    for epoch in tqdm(range(EPOCH)):\n",
        "        ### tuning the learning rate\n",
        "        if epoch in LR_Adjust.keys():\n",
        "            DECAY = LR_Adjust[epoch]\n",
        "            for g in optimizer_Utility.param_groups:\n",
        "                g['lr'] = LR_Utility*DECAY\n",
        "\n",
        "        S, C, D,BD = get_sim_path_sabr(S_0, mu, vol, ir, K, TIME, int(TIME/time_step), n_samples)\n",
        "        S = torch.from_numpy(S)\n",
        "        C = torch.from_numpy(C)\n",
        "        D = torch.from_numpy(D)\n",
        "        BD = torch.from_numpy(BD)\n",
        "        optimizer_Utility.zero_grad()\n",
        "        PHI = torch.zeros((n_samples, time_step + 1))\n",
        "\n",
        "        PHI[:,0] = PHI_0.reshape((-1,))\n",
        "\n",
        "        PHI_dot = torch.zeros((n_samples, time_step ))\n",
        "\n",
        "        for t in range(time_step):#t=0,...,time_step-1, X_utility.shape =(batch_SIZE,TIME_STEP)\n",
        "            t_tensor=t/time_step*TIME*torch.ones(n_samples).reshape(-1,1)\n",
        "            x_Utility=torch.cat((t_tensor,S[:,t].reshape(-1,1),C[:,t].reshape(-1,1),BD[:,t].reshape(-1,1),PHI[:,t].reshape(-1,1)),dim=1)\n",
        "            X_Utility = x_Utility.float()\n",
        "            PHI_dot[:,t] = model_list_Utility[t](x_Utility).reshape(-1,)\n",
        "            PHI[:,(t+1)] = PHI[:,t].reshape(-1)+PHI_dot[:,(t)].reshape(-1)*TIME/time_step\n",
        "        loss_Utility, _ = Mean_Utility(S,C,D,PHI,PHI_dot,LAM,kappa,TIME,time_step,n_samples)\n",
        "        loss_arr_Utility.append(loss_Utility.data)\n",
        "        loss_Utility.backward()   #compute gradient\n",
        "        optimizer_Utility.step()  #update NN weights\n",
        "        if np.isinf(loss_Utility.data.cpu().numpy()) or np.isnan(loss_Utility.data.cpu().numpy()):\n",
        "            print(\"\\nFAIL\")\n",
        "            break\n",
        "        ### saving\n",
        "        path_Q = './models/'\n",
        "        if saving:\n",
        "            if epoch%100==0:\n",
        "                for i,model in enumerate(model_list_Utility):\n",
        "                      torch.save(model.state_dict(),path_Q+'Utility_para{}.pkl'.format(i))\n",
        "                torch.save(loss_arr_Utility,path_Q+\"Utility_LOSS_arr.pt\")\n",
        "                torch.save(optimizer_Utility.state_dict(),path_Q+\"Utility_optimizer.pt\")\n",
        "                print(\"\\n saving models after {} Epochs\".format(epoch+1))\n",
        "    result={\n",
        "        'loss':loss_arr_Utility,\n",
        "        'model_list':model_list_Utility\n",
        "      }\n",
        "    return(result)\n",
        "\n"
      ],
      "metadata": {
        "id": "7Tl_qwyd0fWv"
      },
      "execution_count": null,
      "outputs": []
    },
    {
      "cell_type": "code",
      "source": [
        "S_0 =100\n",
        "K =100\n",
        "vol = 0.20/np.sqrt(252)\n",
        "ir = 0.0\n",
        "mu = 0.0\n",
        "PHI_INITIAL = 0.0\n",
        "LAM = 0.1\n",
        "TIME = 30\n",
        "EPOCH =50\n",
        "n_samples = 100000\n",
        "time_step = 30\n",
        "LR_Utility = 0.001\n",
        "INPUT_DIM_Utility = 5 #The dimension of the input is 5:(t,S_t,C_t,Bartlett_Delta_t,phi_t)\n",
        "OUTPUT_DIM = 1\n",
        "HIDDEN_DIM_Utility = [64,128,64]\n",
        "kappa = 0"
      ],
      "metadata": {
        "id": "TsOtabyf0n1_"
      },
      "execution_count": null,
      "outputs": []
    },
    {
      "cell_type": "code",
      "source": [
        "result = TRAIN_Utility(S_0,vol,mu,ir,K,PHI_INITIAL,LAM,kappa,TIME,EPOCH,n_samples,time_step,HIDDEN_DIM_Utility,LR_Utility,saving=0,LR_Adjust=dict(),OPT_Utility=\"ADAM\",SEED_Utility1=0,SEED_Utility2=0)"
      ],
      "metadata": {
        "colab": {
          "base_uri": "https://localhost:8080/"
        },
        "id": "qWbrpIZc0ogd",
        "outputId": "cae2aa1d-8cb8-4859-9fbe-03055b189740"
      },
      "execution_count": null,
      "outputs": [
        {
          "output_type": "stream",
          "name": "stderr",
          "text": [
            "\r  0%|          | 0/50 [00:00<?, ?it/s]/usr/local/lib/python3.7/dist-packages/ipykernel_launcher.py:130: RuntimeWarning: invalid value encountered in true_divide\n",
            "/usr/local/lib/python3.7/dist-packages/ipykernel_launcher.py:150: RuntimeWarning: divide by zero encountered in true_divide\n",
            "100%|██████████| 50/50 [17:29<00:00, 21.00s/it]\n"
          ]
        }
      ]
    },
    {
      "cell_type": "code",
      "source": [
        "plt.plot(result['loss'],color='midnightblue')\n",
        "plt.xlabel('Epochs')\n",
        "plt.ylabel('Loss');"
      ],
      "metadata": {
        "colab": {
          "base_uri": "https://localhost:8080/",
          "height": 301
        },
        "id": "OwVjOG780wVm",
        "outputId": "ffb833ac-fb64-4ec7-afe9-06d9a9a826ac"
      },
      "execution_count": null,
      "outputs": [
        {
          "output_type": "display_data",
          "data": {
            "text/plain": [
              "<Figure size 432x288 with 1 Axes>"
            ],
            "image/png": "[encoded data removed]"
          },
          "metadata": {
            "needs_background": "light"
          }
        }
      ]
    },
    {
      "cell_type": "markdown",
      "source": [
        "### Deep hedge: Out of Sample Performance:\n",
        "\n",
        "- Simulate N_sample episode\n",
        "- Rollout the trained agent\n",
        "- Calculate the hedging cost on each path\n",
        "- create a histogram of hedging cost"
      ],
      "metadata": {
        "id": "MBhnmxbhTv2N"
      }
    },
    {
      "cell_type": "code",
      "source": [
        "model_list_Utility = result['model_list']\n",
        "n_samples =1000\n",
        "S, C, D,BD = get_sim_path_sabr(S_0, mu, vol, ir, K, TIME, int(TIME/time_step), n_samples)\n",
        "S = torch.from_numpy(S)\n",
        "C = torch.from_numpy(C)\n",
        "D = torch.from_numpy(D)\n",
        "BD = torch.from_numpy(BD)\n",
        "PHI = torch.zeros((n_samples, time_step + 1))\n",
        "PHI_0 = torch.ones(n_samples)*PHI_INITIAL\n",
        "PHI[:,0] = PHI_0.reshape((-1,))\n",
        "\n",
        "PHI_dot = torch.zeros((n_samples, time_step ))\n",
        "\n",
        "for t in range(time_step):#t=0,...,time_step-1, X_utility.shape =(batch_SIZE,TIME_STEP)\n",
        "    t_tensor=t/time_step*TIME*torch.ones(n_samples).reshape(-1,1)\n",
        "    x_Utility=torch.cat((t_tensor,S[:,t].reshape(-1,1),C[:,t].reshape(-1,1),D[:,t].reshape(-1,1),PHI[:,t].reshape(-1,1)),dim=1)\n",
        "    X_Utility = x_Utility.float()\n",
        "    PHI_dot[:,t] = model_list_Utility[t](x_Utility).reshape(-1,)\n",
        "    PHI[:,(t+1)] = PHI[:,t].reshape(-1)+PHI_dot[:,(t)].reshape(-1)*TIME/time_step\n",
        "\n",
        "_,cf_mat  = Mean_Utility(S,C,D,PHI,PHI_dot,LAM,kappa,TIME,time_step,n_samples)\n",
        "deep_pnl = torch.sum(cf_mat,dim=1)-C[:,-1]\n",
        "\n"
      ],
      "metadata": {
        "colab": {
          "base_uri": "https://localhost:8080/"
        },
        "id": "BpyZ3RmxA47c",
        "outputId": "ff932578-a9c3-4115-8447-e51950d6fb4f"
      },
      "execution_count": null,
      "outputs": [
        {
          "output_type": "stream",
          "name": "stderr",
          "text": [
            "/usr/local/lib/python3.7/dist-packages/ipykernel_launcher.py:130: RuntimeWarning: invalid value encountered in true_divide\n",
            "/usr/local/lib/python3.7/dist-packages/ipykernel_launcher.py:150: RuntimeWarning: divide by zero encountered in true_divide\n"
          ]
        }
      ]
    },
    {
      "cell_type": "markdown",
      "source": [
        "### Bartlett Delta PnL"
      ],
      "metadata": {
        "id": "5r9M0RaIWGIo"
      }
    },
    {
      "cell_type": "code",
      "source": [
        "bartlett_delta_pnl = calculate_Bartlett_pnl(S,C,BD,kappa,TIME,time_step,n_samples)"
      ],
      "metadata": {
        "colab": {
          "base_uri": "https://localhost:8080/"
        },
        "id": "KUAJSyB7VgKS",
        "outputId": "1fc19460-4d9a-4887-d325-fabbb806adfd"
      },
      "execution_count": null,
      "outputs": [
        {
          "output_type": "stream",
          "name": "stdout",
          "text": [
            "torch.Size([1000, 31])\n"
          ]
        }
      ]
    },
    {
      "cell_type": "markdown",
      "source": [
        "### Black-Scholes Delta PnL"
      ],
      "metadata": {
        "id": "h7GX-T5-gS5y"
      }
    },
    {
      "cell_type": "code",
      "source": [
        "bs_delta_pnl = calculate_Bartlett_pnl(S,C,D,kappa,TIME,time_step,n_samples)"
      ],
      "metadata": {
        "colab": {
          "base_uri": "https://localhost:8080/"
        },
        "id": "0pzNGkS3gR4i",
        "outputId": "6c3652d3-117a-4fcc-df83-0c13006880fd"
      },
      "execution_count": null,
      "outputs": [
        {
          "output_type": "stream",
          "name": "stdout",
          "text": [
            "torch.Size([1000, 31])\n"
          ]
        }
      ]
    },
    {
      "cell_type": "markdown",
      "source": [
        "### Deep Hedge vs Bartlett Delta vs BS Delta"
      ],
      "metadata": {
        "id": "tKTb0ndhhPyl"
      }
    },
    {
      "cell_type": "code",
      "source": [
        "plt.figure(figsize=(10,8))\n",
        "plt.hist(-deep_pnl.detach().numpy(),bins=50,color = 'midnightblue',edgecolor='black',alpha =0.8,label='Deep QH')\n",
        "plt.hist(-bs_delta_pnl.detach().numpy(),bins=20,color = 'green',edgecolor='black',alpha =0.8,label = 'Black-Scholes Delta Hedge')\n",
        "plt.hist(-bartlett_delta_pnl.detach().numpy(),bins=20,color = 'gold',edgecolor='black',alpha =0.8,label = 'Bartlett Delta Hedge')\n",
        "plt.axvline(-deep_pnl.detach().numpy().mean(), color='midnightblue', linestyle='dashed', linewidth=1)\n",
        "plt.axvline(-bartlett_delta_pnl.detach().numpy().mean(), color='gold', linestyle='dashed', linewidth=1)\n",
        "plt.axvline(-bs_delta_pnl.detach().numpy().mean(), color='green', linestyle='dashed', linewidth=1)\n",
        "plt.xlabel('Total Hedging Cost per Episode',fontsize=12)\n",
        "plt.legend(fontsize=14)\n",
        "print('Average Deep Hedging cost: {}'.format(-deep_pnl.detach().numpy().mean()))\n",
        "print('Average Bartlett Delta Hedging cost: {}'.format(-bartlett_delta_pnl.detach().numpy().mean()))\n",
        "print('Average Black-Scholes Delta Hedging cost: {}'.format(-bs_delta_pnl.detach().numpy().mean()));"
      ],
      "metadata": {
        "colab": {
          "base_uri": "https://localhost:8080/",
          "height": 572
        },
        "id": "apiODirLWSsC",
        "outputId": "da61e426-cc54-4308-f1af-73a20aef8a94"
      },
      "execution_count": null,
      "outputs": [
        {
          "output_type": "stream",
          "name": "stdout",
          "text": [
            "Average Deep Hedging cost: 0.17851559989362584\n",
            "Average Bartlett Delta Hedging cost: 0.1777342423761599\n",
            "Average Black-Scholes Delta Hedging cost: 0.1781598973928355\n"
          ]
        },
        {
          "output_type": "display_data",
          "data": {
            "text/plain": [
              "<Figure size 720x576 with 1 Axes>"
            ],
            "image/png": "[encoded data removed]"
          },
          "metadata": {
            "needs_background": "light"
          }
        }
      ]
    },
    {
      "cell_type": "code",
      "source": [
        "type(BD.detach().numpy())"
      ],
      "metadata": {
        "id": "fakbWp-x7xZe",
        "outputId": "8f7ee155-a6f0-4ff4-90a1-364f40c8b5b7",
        "colab": {
          "base_uri": "https://localhost:8080/"
        }
      },
      "execution_count": null,
      "outputs": [
        {
          "output_type": "execute_result",
          "data": {
            "text/plain": [
              "numpy.ndarray"
            ]
          },
          "metadata": {},
          "execution_count": 24
        }
      ]
    },
    {
      "cell_type": "markdown",
      "source": [
        "## Inspect the paths"
      ],
      "metadata": {
        "id": "7skQBUu_wHl7"
      }
    },
    {
      "cell_type": "markdown",
      "source": [
        "### Bartlett vs. Deep QH"
      ],
      "metadata": {
        "id": "LE2RcRsnFdQp"
      }
    },
    {
      "cell_type": "code",
      "source": [
        "plt.figure(figsize=(15,8))\n",
        "bp = plt.boxplot(PHI.detach().numpy()-BD.detach().numpy(),flierprops={'marker': 'o', 'markersize': 1, 'markerfacecolor': 'midnightblue'})\n",
        "for box in bp['boxes']:\n",
        "    # change outline color\n",
        "    box.set(color='midnightblue', linewidth=1)\n",
        "plt.axhline(y=0.0, color='green', linestyle='dashed', linewidth=3)\n",
        "# plt.legend(fontsize=14)\n",
        "plt.title('Box Plot of Deep QH - Bartlett Delta',fontsize=14)\n",
        "plt.xlabel('Time Period',fontsize=14)\n",
        "plt.ylabel('Deep QH-Bartlett Delta',fontsize=14)\n",
        "plt.ylim((15,55))\n",
        "plt.show()"
      ],
      "metadata": {
        "id": "hT-qR8bswGlx",
        "outputId": "8164c969-c8ee-4100-ebce-be6aed6f45f7",
        "colab": {
          "base_uri": "https://localhost:8080/",
          "height": 538
        }
      },
      "execution_count": null,
      "outputs": [
        {
          "output_type": "display_data",
          "data": {
            "text/plain": [
              "<Figure size 1080x576 with 1 Axes>"
            ],
            "image/png": "[encoded data removed]"
          },
          "metadata": {
            "needs_background": "light"
          }
        }
      ]
    },
    {
      "cell_type": "markdown",
      "source": [
        "### Bartlett vs. Delta"
      ],
      "metadata": {
        "id": "CLlP4UICr-XI"
      }
    },
    {
      "cell_type": "code",
      "source": [
        "plt.figure(figsize=(15,8))\n",
        "bp = plt.boxplot(D.detach().numpy()-BD.detach().numpy(),flierprops={'marker': 'o', 'markersize': 1, 'markerfacecolor': 'midnightblue'})\n",
        "for box in bp['boxes']:\n",
        "    # change outline color\n",
        "    box.set(color='midnightblue', linewidth=1)\n",
        "plt.axhline(y=0.0, color='green', linestyle='dashed', linewidth=3)\n",
        "# plt.legend(fontsize=14)\n",
        "plt.title('Box Plot of Black Scholes Delta - Bartlett Delta',fontsize=14)\n",
        "plt.xlabel('Time Period',fontsize=14)\n",
        "plt.ylabel('Deep QH-Bartlett Delta',fontsize=14)\n",
        "#plt.ylim((15,55))\n",
        "plt.show()"
      ],
      "metadata": {
        "id": "Sx4u5kBOWwdQ",
        "outputId": "11de29e8-7ae6-45fe-8be5-5db06f6d50a9",
        "colab": {
          "base_uri": "https://localhost:8080/",
          "height": 538
        }
      },
      "execution_count": null,
      "outputs": [
        {
          "output_type": "display_data",
          "data": {
            "text/plain": [
              "<Figure size 1080x576 with 1 Axes>"
            ],
            "image/png": "[encoded data removed]"
          },
          "metadata": {
            "needs_background": "light"
          }
        }
      ]
    },
    {
      "cell_type": "markdown",
      "source": [
        "### How to increase the gap between Bartlett delta and Black-Scholes Delta\n",
        "### This is to show that Deep QH outperform Black Scholes delta and approximate Bartlett"
      ],
      "metadata": {
        "id": "oBKjy9N_LYQr"
      }
    },
    {
      "cell_type": "code",
      "source": [],
      "metadata": {
        "id": "EdUra00gJYQJ"
      },
      "execution_count": null,
      "outputs": []
    }
  ]
}