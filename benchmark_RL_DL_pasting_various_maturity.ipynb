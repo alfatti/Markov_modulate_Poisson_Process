{
  "cells": [
    {
      "cell_type": "markdown",
      "source": [
        "## Mean-Variance Hedging (MVH)\n",
        "- MVH formulation of hedging tries to solve a stepwise mean variance problem,\n",
        "$$\\min_{\\text{strategies}}\\left(\\sum_{t=1}^{N-1}\\mathbb{E}(-P\\&L_t)+\\frac{\\lambda}{2}\\text{Var}(P\\&L_t)\\right)$$\n",
        "- The P\\&L at each step is defined as:\n",
        "- For $0\\leq i n$,\n",
        "$$P\\&L_{i+1}=(C_{i+1}-C_{i})+H_i(S_{i+1}-S_i)-\\kappa|S_{i+1}(H_{i+1}-H_i)|$$\n",
        "- where, $C_i$ (negative if option is shorted) is the option price and $H_i$ is the hedging strategy (shares of stock to hold) between $i\\Delta t$ and $(i+1)\\Delta t$\n",
        "- At $i=0$ there is cost $\\kappa|S_0H_0|$ to set up the hedge\n",
        "- At $i=N$ there is cost $\\kappa|S_NH_N|$ to unwind the hedge"
      ],
      "metadata": {
        "id": "dX6h9iB4d_c7"
      },
      "id": "dX6h9iB4d_c7"
    },
    {
      "cell_type": "code",
      "source": [
        "from google.colab import drive\n",
        "drive.mount('/content/drive')"
      ],
      "metadata": {
        "id": "UXjEbe6neBqS",
        "outputId": "d91c9efa-b036-45e9-cf27-0e739a0307d7",
        "colab": {
          "base_uri": "https://localhost:8080/"
        }
      },
      "id": "UXjEbe6neBqS",
      "execution_count": null,
      "outputs": [
        {
          "output_type": "stream",
          "name": "stdout",
          "text": [
            "Mounted at /content/drive\n"
          ]
        }
      ]
    },
    {
      "cell_type": "code",
      "source": [
        "import sys\n",
        "sys.path.insert(0,'/content/drive/MyDrive/Colab Notebooks/RL&Hedging/')"
      ],
      "metadata": {
        "id": "C2-_aTblKXK1"
      },
      "id": "C2-_aTblKXK1",
      "execution_count": null,
      "outputs": []
    },
    {
      "cell_type": "code",
      "source": [
        "import numpy as np\n",
        "import matplotlib.pyplot as plt\n",
        "import scipy.stats as stats\n",
        "import seaborn as sns\n",
        "from Utilities import commonFunctions as cF"
      ],
      "metadata": {
        "id": "bAL1KlJWHe-Z"
      },
      "id": "bAL1KlJWHe-Z",
      "execution_count": null,
      "outputs": []
    },
    {
      "cell_type": "code",
      "execution_count": null,
      "metadata": {
        "id": "vulnerable-belize"
      },
      "outputs": [],
      "source": [
        "def Training_Loss_Kolm(S,C,D,PHI,PHI_dot,LAM,kappa,TIME,time_step,n_samples):\n",
        "    \"\"\"\n",
        "    Formulate the optimization objective based on Kolm-Rietter formulation\n",
        "    Calculate the average loss for the batch\n",
        "    S: Stock prices (BATCH_SIZE,TIME_STEP)\n",
        "    C: Option prices (BATCH_SIZE,TIME_STEP)\n",
        "    D: Option Deltas (BATCH_SIZE,TIME_STEP)\n",
        "    PHI: Hedging strategy(BATCH_SIZE,TIME_STEP+1)\n",
        "    PHI_dot: rebalancing rate(BATCH,TIME_STEP)\n",
        "    LAM: Risk aversion parameter\n",
        "    TIME: Time horizon T\"\"\"\n",
        "    delta_t = TIME/time_step\n",
        "    pnl_mat = cF.torch.zeros((n_samples,time_step+1))\n",
        "    # initial transaction cost to put on the hedge\n",
        "    pnl_mat[:,0] = -kappa*cF.torch.abs(cF.torch.mul(S[:,0],PHI[:,0]))\n",
        "    for i in cF.torch.arange(1,time_step):\n",
        "        pnl_mat[:,i] = -1*(C[:,i]-C[:,i-1])+PHI[:,i]*(S[:,i]-S[:,i-1])-kappa*S[:,i]*(cF.torch.abs(PHI_dot[:,i]*delta_t)+0.01*(PHI_dot[:,i]*delta_t)**2)\n",
        "    #transaction cost at maturity to unwind the hedge\n",
        "    pnl_mat[:,-1] = pnl_mat[:,-1]-kappa*S[:,-1]*(cF.torch.abs(PHI[:,-1])+0.01*PHI[:,-1]**2)\n",
        "    loss_mat = -1*pnl_mat+LAM/2*pnl_mat**2 #loss_mat.shape =(n_samples,time_step)\n",
        "    return cF.torch.mean(loss_mat), pnl_mat"
      ],
      "id": "vulnerable-belize"
    },
    {
      "cell_type": "code",
      "execution_count": null,
      "metadata": {
        "id": "weird-reconstruction"
      },
      "outputs": [],
      "source": [
        "def TRAIN_graph(S_0,vol,mu,ir,K,PHI_INITIAL,LAM,kappa,TIME,EPOCH,n_samples,time_step,HIDDEN_DIM_Utility,LR_Utility = 0.001,saving=0,LR_Adjust=dict(),OPT_Utility=\"ADAM\",SEED_Utility1=0,SEED_Utility2=0):\n",
        "\n",
        "    \"\"\"\n",
        "    n_samples: path size of the Brownian Motion\n",
        "    time_step: discretization step\n",
        "    LR_Utility: initial learning rate\n",
        "    saving: list, to indicate at which epoch should have the models be saved to the path_temp\n",
        "         saving=0 means no saving\n",
        "    LR_Adjust: a dictoinary in which the value is the absolute DECAY,\n",
        "          and the key is the epoch corresponding to the updated learning rate\n",
        "    OPT_Utility: \"ADAM\" or \"SGD\"\n",
        "    \"\"\"\n",
        "    model_list_Utility = []\n",
        "    i = 0\n",
        "    while i <= time_step:\n",
        "        model = cF.RL_Net(INPUT_DIM_Utility,OUTPUT_DIM,HIDDEN_DIM_Utility)\n",
        "        model.apply(cF.weights_init_uniform_rule)\n",
        "        model_list_Utility.append(model)\n",
        "        i += 1\n",
        "    if OPT_Utility==\"SGD\":\n",
        "        optimizer_Utility = cF.torch.optim.SGD((par for model in model_list_Utility\n",
        "                        for par in model.parameters()),\n",
        "                                lr=LR_Utility)\n",
        "    if OPT_Utility==\"ADAM\":\n",
        "        optimizer_Utility = cF.torch.optim.Adam((par for model in model_list_Utility\n",
        "                        for par in model.parameters()),\n",
        "                        lr=LR_Utility, betas=(0.9, 0.99))\n",
        "\n",
        "    loss_arr_Utility = []\n",
        "    PHI_0=cF.torch.ones(n_samples)*PHI_INITIAL\n",
        "    DUMMY_1 = cF.torch.ones(n_samples).reshape((n_samples, 1))\n",
        "    for epoch in cF.tqdm(range(EPOCH)):\n",
        "        ### tuning the learning rate\n",
        "        if epoch in LR_Adjust.keys():\n",
        "            DECAY = LR_Adjust[epoch]\n",
        "            for g in optimizer_Utility.param_groups:\n",
        "                g['lr'] = LR_Utility*DECAY\n",
        "\n",
        "        ### W_t: (SAMPLE_SIZE,TIME_STEP+1)\n",
        "        W=cF.torch.cumsum(cF.torch.normal(0, cF.np.sqrt(TIME*1/time_step), size=(n_samples, time_step)), dim=1) # simukate Wiener process\n",
        "        W=cF.torch.cat((cF.torch.zeros((n_samples,1)),W),dim=1)\n",
        "\n",
        "        ### Stock process batch(SAMPLE_SIZE,TIME_STEP+1)\n",
        "        S = cF.calculate_stock_prices(S_0,mu,vol,W)\n",
        "\n",
        "        ### Calculate option prices batch (SAMPLE_SIZE,TIME_STEP+1)\n",
        "        C = cF.calculate_option_prices(S, K, ir, vol, TIME)\n",
        "        ### Calculate option deltas\n",
        "        D = cF.calculate_deltas(S, K, ir, vol, TIME)\n",
        "\n",
        "        optimizer_Utility.zero_grad()\n",
        "        PHI = cF.torch.zeros((n_samples, time_step + 1))\n",
        "\n",
        "        PHI[:,0] = PHI_0.reshape((-1,))\n",
        "\n",
        "        PHI_dot = cF.torch.zeros((n_samples, time_step ))\n",
        "\n",
        "        for t in range(time_step):#t=0,...,time_step-1, X_utility.shape =(SAMPLE_SIZE,TIME_STEP)\n",
        "            t_tensor=t/time_step*TIME*cF.torch.ones(n_samples).reshape(-1,1)\n",
        "            x_Utility=cF.torch.cat((t_tensor,W[:,t].reshape(-1,1),C[:,t].reshape(-1,1),D[:,t].reshape(-1,1),PHI[:,t].reshape(-1,1)),dim=1)\n",
        "            PHI_dot[:,t] = model_list_Utility[t](x_Utility).reshape(-1,)\n",
        "            PHI[:,(t+1)] = PHI[:,t].reshape(-1)+PHI_dot[:,(t)].reshape(-1)*TIME/time_step\n",
        "        loss_Utility, _ = Training_Loss_Kolm(S,C,D,PHI,PHI_dot,LAM,kappa,TIME,time_step,n_samples)\n",
        "        loss_arr_Utility.append(loss_Utility.data)\n",
        "        loss_Utility.backward()   #compute gradient\n",
        "        optimizer_Utility.step()  #update NN weights\n",
        "        if cF.np.isinf(loss_Utility.data.cpu().numpy()) or cF.np.isnan(loss_Utility.data.cpu().numpy()):\n",
        "            print(\"\\nFAIL\")\n",
        "            break\n",
        "        ### saving\n",
        "        path_Q = './models/'\n",
        "        if saving:\n",
        "            if epoch%100==0:\n",
        "                for i,model in enumerate(model_list_Utility):\n",
        "                      cF.torch.save(model.state_dict(),path_Q+'Utility_para{}.pkl'.format(i))\n",
        "                cF.torch.save(loss_arr_Utility,path_Q+\"Utility_LOSS_arr.pt\")\n",
        "                cF.torch.save(optimizer_Utility.state_dict(),path_Q+\"Utility_optimizer.pt\")\n",
        "                print(\"\\n saving models after {} Epochs\".format(epoch+1))\n",
        "    result={\n",
        "        'loss':loss_arr_Utility,\n",
        "        'model_list':model_list_Utility\n",
        "      }\n",
        "    return(result)"
      ],
      "id": "weird-reconstruction"
    },
    {
      "cell_type": "code",
      "execution_count": null,
      "metadata": {
        "id": "smooth-worse"
      },
      "outputs": [],
      "source": [
        "S_0 =100\n",
        "K =100\n",
        "vol = 0.20/cF.np.sqrt(252)\n",
        "mu = 0.05/252\n",
        "ir = mu\n",
        "PHI_INITIAL = 0.0\n",
        "LAM = 0.1\n",
        "TIME = 30\n",
        "EPOCH =50\n",
        "n_samples = 5000\n",
        "time_step = 30\n",
        "LR_Utility = 0.001\n",
        "INPUT_DIM_Utility = 5 #The dimension of the input is 5:(t,W_t,C_t,Delta_t,phi_t)\n",
        "OUTPUT_DIM = 1\n",
        "HIDDEN_DIM_Utility = [10,15,10]\n",
        "kappa = 0.01"
      ],
      "id": "smooth-worse"
    },
    {
      "cell_type": "markdown",
      "source": [
        "### Train Deep-MVH for increasing maturities"
      ],
      "metadata": {
        "id": "nVqgiNpcoc9n"
      },
      "id": "nVqgiNpcoc9n"
    },
    {
      "cell_type": "code",
      "source": [
        "time_list = [30, 60, 90, 120]\n",
        "delta_pnl_dict = {}\n",
        "deep_pnl_dict = {}\n",
        "deep_model_dict = {}\n",
        "for TIME in time_list:\n",
        "  time_step = TIME\n",
        "  print('training with maturity (days) ={}'.format(TIME))\n",
        "  result = TRAIN_graph(S_0,vol,mu,ir,K,PHI_INITIAL,LAM,kappa,TIME,EPOCH,n_samples,time_step,HIDDEN_DIM_Utility,LR_Utility = 0.001,saving=0,LR_Adjust=dict(),OPT_Utility=\"ADAM\",SEED_Utility1=0,SEED_Utility2=0)\n",
        "  deep_model_dict['model_maturity_{}'.format(TIME)] = result['model_list']\n",
        "  model_list_Utility = result['model_list']\n",
        "  ### calulate pnl on test set\n",
        "  n_samples = 1000\n",
        "    ### W_t: (SAMPLE_SIZE,TIME_STEP+1)\n",
        "  W=cF.torch.cumsum(cF.torch.normal(0, cF.np.sqrt(TIME*1/time_step), size=(n_samples, time_step)), dim=1) # simukate Wiener process\n",
        "  W=cF.torch.cat((cF.torch.zeros((n_samples,1)),W),dim=1)\n",
        "\n",
        "  ### Stock process batch(SAMPLE_SIZE,TIME_STEP+1)\n",
        "  S = cF.calculate_stock_prices(S_0,mu,vol,W)\n",
        "\n",
        "  ### Calculate option prices batch (SAMPLE_SIZE,TIME_STEP+1)\n",
        "  C = cF.calculate_option_prices(S, K, ir, vol, TIME)\n",
        "  ### Calculate option deltas\n",
        "  D = cF.calculate_deltas(S, K, ir, vol, TIME)\n",
        "  PHI = cF.torch.zeros((n_samples, time_step + 1))\n",
        "  PHI_0 = cF.torch.ones(n_samples)*PHI_INITIAL\n",
        "  PHI[:,0] = PHI_0.reshape((-1,))\n",
        "\n",
        "  PHI_dot = cF.torch.zeros((n_samples, time_step ))\n",
        "\n",
        "  for t in range(time_step):#t=0,...,time_step-1, X_utility.shape =(SAMPLE_SIZE,TIME_STEP)\n",
        "      t_tensor=t/time_step*TIME*cF.torch.ones(n_samples).reshape(-1,1)\n",
        "      x_Utility=cF.torch.cat((t_tensor,W[:,t].reshape(-1,1),C[:,t].reshape(-1,1),D[:,t].reshape(-1,1),PHI[:,t].reshape(-1,1)),dim=1)\n",
        "      PHI_dot[:,t] = model_list_Utility[t](x_Utility).reshape(-1,)\n",
        "      PHI[:,(t+1)] = PHI[:,t].reshape(-1)+PHI_dot[:,(t)].reshape(-1)*TIME/time_step\n",
        "\n",
        "  _,pnl_mat = Training_Loss_Kolm(S,C,D,PHI,PHI_dot,LAM,kappa,TIME,time_step,n_samples)\n",
        "  deep_pnl_dict['pnl_maturity_{}'.format(TIME)] = pnl_mat.detach().numpy()\n"
      ],
      "metadata": {
        "colab": {
          "base_uri": "https://localhost:8080/"
        },
        "id": "9HdvRH4Moz5g",
        "outputId": "2fcf3f5c-1c03-47b7-b823-7b4a2a5a5584"
      },
      "id": "9HdvRH4Moz5g",
      "execution_count": null,
      "outputs": [
        {
          "output_type": "stream",
          "name": "stdout",
          "text": [
            "training with maturity (days) =30\n"
          ]
        },
        {
          "output_type": "stream",
          "name": "stderr",
          "text": [
            "100%|██████████| 50/50 [00:34<00:00,  1.45it/s]\n"
          ]
        },
        {
          "output_type": "stream",
          "name": "stdout",
          "text": [
            "training with maturity (days) =60\n"
          ]
        },
        {
          "output_type": "stream",
          "name": "stderr",
          "text": [
            "100%|██████████| 50/50 [00:21<00:00,  2.28it/s]\n"
          ]
        },
        {
          "output_type": "stream",
          "name": "stdout",
          "text": [
            "training with maturity (days) =90\n"
          ]
        },
        {
          "output_type": "stream",
          "name": "stderr",
          "text": [
            "100%|██████████| 50/50 [00:27<00:00,  1.84it/s]\n"
          ]
        },
        {
          "output_type": "stream",
          "name": "stdout",
          "text": [
            "training with maturity (days) =120\n"
          ]
        },
        {
          "output_type": "stream",
          "name": "stderr",
          "text": [
            "100%|██████████| 50/50 [00:37<00:00,  1.34it/s]\n"
          ]
        }
      ]
    },
    {
      "cell_type": "markdown",
      "source": [
        "### Paste trained graphs and build 60d, 90 strategies using 30d"
      ],
      "metadata": {
        "id": "jh0hAv5rrsce"
      },
      "id": "jh0hAv5rrsce"
    },
    {
      "cell_type": "code",
      "source": [
        "deep_model_dict['model_maturity_pasted_60'] = deep_model_dict['model_maturity_30'] +deep_model_dict['model_maturity_30'][1:]\n",
        "deep_model_dict['model_maturity_pasted_90'] = deep_model_dict['model_maturity_30'] +deep_model_dict['model_maturity_30'][1:]+deep_model_dict['model_maturity_30'][1:]\n",
        "deep_model_dict['model_maturity_pasted_120']  = deep_model_dict['model_maturity_30'] +deep_model_dict['model_maturity_30'][1:]+deep_model_dict['model_maturity_30'][1:]+deep_model_dict['model_maturity_30'][1:]\n"
      ],
      "metadata": {
        "id": "Ph6V_psRsA_e"
      },
      "id": "Ph6V_psRsA_e",
      "execution_count": null,
      "outputs": []
    },
    {
      "cell_type": "code",
      "source": [
        "print(deep_model_dict.keys())"
      ],
      "metadata": {
        "colab": {
          "base_uri": "https://localhost:8080/"
        },
        "id": "E1vLGLLfsBFW",
        "outputId": "5d186db5-50b0-4796-c4f1-7fe9a4f32682"
      },
      "id": "E1vLGLLfsBFW",
      "execution_count": null,
      "outputs": [
        {
          "output_type": "stream",
          "name": "stdout",
          "text": [
            "dict_keys(['model_maturity_30', 'model_maturity_60', 'model_maturity_90', 'model_maturity_120', 'model_maturity_pasted_60', 'model_maturity_pasted_90', 'model_maturity_pasted_120'])\n"
          ]
        }
      ]
    },
    {
      "cell_type": "markdown",
      "source": [
        "### Out of sample performance for pasted 60d, 90d and 120d maturity"
      ],
      "metadata": {
        "id": "YEJHmUMNF6u_"
      },
      "id": "YEJHmUMNF6u_"
    },
    {
      "cell_type": "code",
      "source": [
        "for TIME in [60, 90, 120]:\n",
        "  time_step = TIME\n",
        "  n_samples = 1000\n",
        "  model_list_Utility = deep_model_dict['model_maturity_pasted_{}'.format(TIME)]\n",
        "    ### W_t: (SAMPLE_SIZE,TIME_STEP+1)\n",
        "  W=cF.torch.cumsum(cF.torch.normal(0, cF.np.sqrt(TIME*1/time_step), size=(n_samples, time_step)), dim=1) # simukate Wiener process\n",
        "  W=cF.torch.cat((cF.torch.zeros((n_samples,1)),W),dim=1)\n",
        "\n",
        "  ### Stock process batch(SAMPLE_SIZE,TIME_STEP+1)\n",
        "  S = cF.calculate_stock_prices(S_0,mu,vol,W)\n",
        "\n",
        "  ### Calculate option prices batch (SAMPLE_SIZE,TIME_STEP+1)\n",
        "  C = cF.calculate_option_prices(S, K, ir, vol, TIME)\n",
        "  ### Calculate option deltas\n",
        "  D = cF.calculate_deltas(S, K, ir, vol, TIME)\n",
        "  PHI = cF.torch.zeros((n_samples, time_step + 1))\n",
        "\n",
        "  PHI[:,0] = PHI_0.reshape((-1,))\n",
        "\n",
        "  PHI_dot = cF.torch.zeros((n_samples, time_step ))\n",
        "\n",
        "  for t in range(time_step):#t=0,...,time_step-1, X_utility.shape =(SAMPLE_SIZE,TIME_STEP)\n",
        "      t_tensor=t/time_step*TIME*cF.torch.ones(n_samples).reshape(-1,1)\n",
        "      x_Utility=cF.torch.cat((t_tensor,W[:,t].reshape(-1,1),C[:,t].reshape(-1,1),D[:,t].reshape(-1,1),PHI[:,t].reshape(-1,1)),dim=1)\n",
        "      PHI_dot[:,t] = model_list_Utility[t](x_Utility).reshape(-1,)\n",
        "      PHI[:,(t+1)] = PHI[:,t].reshape(-1)+PHI_dot[:,(t)].reshape(-1)*TIME/time_step\n",
        "\n",
        "  _,pnl_mat = Training_Loss_Kolm(S,C,D,PHI,PHI_dot,LAM,kappa,TIME,time_step,n_samples)\n",
        "  deep_pnl_dict['pnl_maturity_pasted_{}'.format(TIME)] = pnl_mat.detach().numpy()\n"
      ],
      "metadata": {
        "id": "S8Ds3IkQH9F4"
      },
      "id": "S8Ds3IkQH9F4",
      "execution_count": null,
      "outputs": []
    },
    {
      "cell_type": "code",
      "source": [
        "deep_pnl_dict.keys()"
      ],
      "metadata": {
        "colab": {
          "base_uri": "https://localhost:8080/"
        },
        "id": "XwEZ0fB1z029",
        "outputId": "139ce1bb-e437-49b4-81a5-f11283676077"
      },
      "id": "XwEZ0fB1z029",
      "execution_count": null,
      "outputs": [
        {
          "output_type": "execute_result",
          "data": {
            "text/plain": [
              "dict_keys(['pnl_maturity_30', 'pnl_maturity_60', 'pnl_maturity_90', 'pnl_maturity_120', 'pnl_maturity_pasted_60', 'pnl_maturity_pasted_90', 'pnl_maturity_pasted_120'])"
            ]
          },
          "metadata": {},
          "execution_count": 11
        }
      ]
    },
    {
      "cell_type": "markdown",
      "source": [
        "# Import RL Models"
      ],
      "metadata": {
        "id": "m8rf01gI30HL"
      },
      "id": "m8rf01gI30HL"
    },
    {
      "cell_type": "code",
      "source": [
        "from collections import namedtuple\n",
        "import statistics\n",
        "import time\n",
        "import os\n",
        "%matplotlib inline\n",
        "\n",
        "import tensorflow as tf\n",
        "from tensorflow.python.keras.models import clone_model, load_model, Model\n",
        "from tensorflow.python.keras import Sequential\n",
        "from tensorflow.python.keras.layers import Dense, Activation, Input, concatenate\n",
        "from tensorflow.keras.layers import BatchNormalization\n",
        "from tensorflow.python.keras.optimizers import adam_v2\n",
        "Adam = adam_v2.Adam\n",
        "from tensorflow.python.keras.initializers import Zeros, Ones, Constant, he_normal, truncated_normal\n",
        "from tensorflow.python.keras import backend\n",
        "\n",
        "from Utilities.black_scholes_helper import call_option\n",
        "from Utilities.path_generator import geometric_brownian_generator, wiener_process_generator\n",
        "tf.compat.v1.disable_eager_execution()\n",
        "\n",
        "%load_ext autoreload\n",
        "%autoreload 2"
      ],
      "metadata": {
        "id": "lwjTC5mwz441"
      },
      "id": "lwjTC5mwz441",
      "execution_count": null,
      "outputs": []
    },
    {
      "cell_type": "code",
      "source": [
        "os.chdir('/content/drive/MyDrive/Colab Notebooks/RL&Hedging/')"
      ],
      "metadata": {
        "id": "_sz0sTf1UvFT"
      },
      "id": "_sz0sTf1UvFT",
      "execution_count": null,
      "outputs": []
    },
    {
      "cell_type": "code",
      "source": [
        "os.getcwd()"
      ],
      "metadata": {
        "colab": {
          "base_uri": "https://localhost:8080/",
          "height": 57
        },
        "id": "8iSOzp4lVrZy",
        "outputId": "431b08c5-07b8-456c-dada-ae4f4076f47f"
      },
      "id": "8iSOzp4lVrZy",
      "execution_count": null,
      "outputs": [
        {
          "output_type": "execute_result",
          "data": {
            "text/plain": [
              "'/content/drive/MyDrive/Colab Notebooks/RL&Hedging'"
            ],
            "application/vnd.google.colaboratory.intrinsic+json": {
              "type": "string"
            }
          },
          "metadata": {},
          "execution_count": 14
        }
      ]
    },
    {
      "cell_type": "code",
      "source": [
        "from brains import *\n",
        "from agents import *\n",
        "from trainers import*\n",
        "from environments import *"
      ],
      "metadata": {
        "id": "Y2ypQ7Hn36k2"
      },
      "id": "Y2ypQ7Hn36k2",
      "execution_count": null,
      "outputs": []
    },
    {
      "cell_type": "code",
      "source": [
        "MU = 0.05 / 252\n",
        "IR = MU\n",
        "VOL = 0.20 / np.sqrt(252)\n",
        "S0 = 100\n",
        "K = 100\n",
        "NUM_SOLD_OPT = 1\n",
        "KAPPA = 0.1\n",
        "ALPHA = 0.01\n",
        "GAMMA = 1.0\n",
        "CAPACITY = 10000\n",
        "BATCH_SIZE = 32\n",
        "NUM_EPISODES = 1000\n",
        "FREQ_UPDATE_TARGET = 5"
      ],
      "metadata": {
        "id": "LXAhLJOa43B2"
      },
      "id": "LXAhLJOa43B2",
      "execution_count": null,
      "outputs": []
    },
    {
      "cell_type": "code",
      "source": [
        "def load_and_run(NUM_STEPS, num_paths=3000, file_ddpg='/content/drive/MyDrive/Colab Notebooks/RL&Hedging/rl-bsmodel-with-costs-master/model_data/ddpg_no_costs', file_dqn='/content/drive/MyDrive/Colab Notebooks/RL&Hedging/rl-bsmodel-with-costs-master/model_data/dqn_no_costs.h5'):\n",
        "\n",
        "    # Results of DDPG agent\n",
        "    num_states = env.num_states\n",
        "    act_rng = (0, NUM_SOLD_OPT)\n",
        "    rp = None\n",
        "    agentDPG = AgentDDPG(num_states, 1, act_rng, random_process=rp, actor_lr=1e-5, critic_lr=1e-4, tau=1e-3)\n",
        "    agentDPG.load(file_ddpg)\n",
        "\n",
        "    trainer = TrainerBS(env, agentDPG)\n",
        "    p_hists = trainer.run(num_paths, NUM_STEPS)\n",
        "    p_pl = np.sum(p_hists[:, :, -1], axis=1)\n",
        "\n",
        "    # Results of DQN agent\n",
        "    brainDQN = BrainDQN(num_states, NUM_SOLD_OPT+1)\n",
        "    brainDQN.load(file_dqn)\n",
        "    agentDQN = AgentActionValueBase(brainDQN)\n",
        "\n",
        "    trainer = TrainerBS(env, agentDQN)\n",
        "    q_hists = trainer.run(num_paths, NUM_STEPS)\n",
        "    q_pl = np.sum(q_hists[:, :, -1], axis=1)\n",
        "\n",
        "    # Results of Delta agent\n",
        "    brainDelta = BrainDelta(num_states, NUM_SOLD_OPT+1, is_rounded=True)\n",
        "    agentDelta = AgentActionValueBase(brainDelta)\n",
        "\n",
        "    trainer = TrainerBS(env, agentDelta)\n",
        "    d_hists = trainer.run(num_paths, NUM_STEPS)\n",
        "    d_pl = np.sum(d_hists[:, :, -1], axis=1)\n",
        "\n",
        "    return d_hists, p_hists, q_hists, d_pl, p_pl, q_pl"
      ],
      "metadata": {
        "id": "YQ31ANnE5fr5"
      },
      "id": "YQ31ANnE5fr5",
      "execution_count": null,
      "outputs": []
    },
    {
      "cell_type": "code",
      "source": [
        "env = EnvironmentBS(60, 60, MU, IR, VOL, S0, K, NUM_SOLD_OPT, KAPPA, alpha=ALPHA)\n",
        "d_hists1, p_hists1, q_hists1, d_pl1, p_pl1, q_pl1 = load_and_run(60,NUM_EPISODES, '/content/drive/MyDrive/Colab Notebooks/RL&Hedging/rl-bsmodel-with-costs-master/model_data/ddpg_maturity60d')\n",
        "\n",
        "env = EnvironmentBS(90, 90, MU, IR, VOL, S0, K, NUM_SOLD_OPT, KAPPA, alpha=ALPHA)\n",
        "d_hists2, p_hists2, q_hists2, d_pl2, p_pl2, q_pl2 = load_and_run(90,NUM_EPISODES, '/content/drive/MyDrive/Colab Notebooks/RL&Hedging/rl-bsmodel-with-costs-master/model_data/ddpg_maturity90d')\n",
        "\n",
        "env = EnvironmentBS(120, 120, MU, IR, VOL, S0, K, NUM_SOLD_OPT, KAPPA, alpha=ALPHA)\n",
        "d_hists3, p_hists3, q_hists3, d_pl3, p_pl3, q_pl3 = load_and_run(120,NUM_EPISODES, '/content/drive/MyDrive/Colab Notebooks/RL&Hedging/rl-bsmodel-with-costs-master/model_data/ddpg_maturity120d')"
      ],
      "metadata": {
        "colab": {
          "base_uri": "https://localhost:8080/"
        },
        "id": "OKDNXR3P6OcK",
        "outputId": "f0c2a17a-948a-4f84-ad87-e1d95ab5a0a4"
      },
      "id": "OKDNXR3P6OcK",
      "execution_count": null,
      "outputs": [
        {
          "output_type": "stream",
          "name": "stderr",
          "text": [
            "WARNING:tensorflow:From /usr/local/lib/python3.7/dist-packages/tensorflow/python/keras/initializers/initializers_v1.py:76: calling TruncatedNormal.__init__ (from tensorflow.python.ops.init_ops) with dtype is deprecated and will be removed in a future version.\n",
            "Instructions for updating:\n",
            "Call initializer instance with the dtype argument instead of passing it to the constructor\n"
          ]
        },
        {
          "output_type": "stream",
          "name": "stdout",
          "text": [
            "1e-05\n"
          ]
        },
        {
          "output_type": "stream",
          "name": "stderr",
          "text": [
            "WARNING:tensorflow:No training configuration found in the save file, so the model was *not* compiled. Compile it manually.\n",
            "/usr/local/lib/python3.7/dist-packages/tensorflow/python/keras/engine/training.py:2458: UserWarning: `Model.state_updates` will be removed in a future version. This property should not be used in TensorFlow 2.0, as `updates` are applied automatically.\n",
            "  warnings.warn('`Model.state_updates` will be removed in a future version. '\n"
          ]
        },
        {
          "output_type": "stream",
          "name": "stdout",
          "text": [
            "1e-05\n"
          ]
        },
        {
          "output_type": "stream",
          "name": "stderr",
          "text": [
            "WARNING:tensorflow:No training configuration found in the save file, so the model was *not* compiled. Compile it manually.\n"
          ]
        },
        {
          "output_type": "stream",
          "name": "stdout",
          "text": [
            "1e-05\n"
          ]
        },
        {
          "output_type": "stream",
          "name": "stderr",
          "text": [
            "WARNING:tensorflow:No training configuration found in the save file, so the model was *not* compiled. Compile it manually.\n"
          ]
        }
      ]
    },
    {
      "cell_type": "code",
      "source": [
        "def plot_pl_hists(dh_pl, dh_pl_pasted,rl_pl,T, ax, hist=True):\n",
        "\n",
        "    sns.distplot(-dh_pl, label=\"Deep-MVH\", color='midnightblue', hist_kws={\"alpha\":0.3}, ax=ax, hist=hist)\n",
        "    sns.distplot(-dh_pl_pasted, label=\"Deep-MVH-pasted\", color='gold', hist_kws={\"alpha\":0.3}, ax=ax, hist=hist)\n",
        "    sns.distplot(-rl_pl, label=\"RL-MVH\", color='green', hist_kws={\"alpha\":0.3}, ax=ax, hist=hist)\n",
        "\n",
        "    ax.axvline(-dh_pl.mean(), color='midnightblue', ls='--')\n",
        "    ax.axvline(-dh_pl_pasted.mean(), color='gold', ls='--')\n",
        "    ax.axvline(-rl_pl.mean(), color='green', ls='--')\n",
        "\n",
        "    ax.set_xlim(-20, 100)\n",
        "    ax.set_xlabel('Total Hedge Quality', fontsize=16)\n",
        "    ax.set_ylabel('Probability Density')\n",
        "    ax.set_title('Option Maturity (day) = {}'.format(T))\n",
        "    ax.legend(frameon=True)\n",
        "\n",
        "    print(\"Option Maturity = {}\".format(T))\n",
        "    print(\"Dep-MVH: Ave = {0:.2f}, Std = {1:.2f}\".format(-dh_pl.mean(), dh_pl.std(ddof=1)))\n",
        "    print(\"Deep-MVH-pasted: Ave = {0:.2f}, Std = {1:.2f}\".format(-dh_pl_pasted.mean(), dh_pl_pasted.std(ddof=1)))\n",
        "    print(\"RL-DDPG: Ave = {0:.2f}, Std = {1:.2f}\".format(-rl_pl.mean(), rl_pl.std(ddof=1)))\n",
        "    print(\"\")"
      ],
      "metadata": {
        "id": "hUufk-JE81Vp"
      },
      "id": "hUufk-JE81Vp",
      "execution_count": null,
      "outputs": []
    },
    {
      "cell_type": "code",
      "source": [
        "fig, axes = plt.subplots(1, 3, sharex=True, sharey=True, figsize=[15,3])\n",
        "\n",
        "plot_pl_hists(np.sum(deep_pnl_dict['pnl_maturity_60'],axis=1),np.sum(deep_pnl_dict['pnl_maturity_pasted_60'],axis=1),p_pl1,60, axes[0], False)\n",
        "plot_pl_hists(np.sum(deep_pnl_dict['pnl_maturity_90'],axis=1),np.sum(deep_pnl_dict['pnl_maturity_pasted_90'],axis=1),p_pl2,90, axes[1], False)\n",
        "plot_pl_hists(np.sum(deep_pnl_dict['pnl_maturity_120'],axis=1),np.sum(deep_pnl_dict['pnl_maturity_pasted_120'],axis=1),p_pl3,120, axes[2], False)"
      ],
      "metadata": {
        "colab": {
          "base_uri": "https://localhost:8080/",
          "height": 847
        },
        "id": "WYfHVlAY-YFB",
        "outputId": "f9c41974-53c9-4bdb-94d1-43fd0bdc9061"
      },
      "id": "WYfHVlAY-YFB",
      "execution_count": null,
      "outputs": [
        {
          "output_type": "stream",
          "name": "stderr",
          "text": [
            "/usr/local/lib/python3.7/dist-packages/seaborn/distributions.py:2619: FutureWarning: `distplot` is a deprecated function and will be removed in a future version. Please adapt your code to use either `displot` (a figure-level function with similar flexibility) or `kdeplot` (an axes-level function for kernel density plots).\n",
            "  warnings.warn(msg, FutureWarning)\n",
            "/usr/local/lib/python3.7/dist-packages/seaborn/distributions.py:2619: FutureWarning: `distplot` is a deprecated function and will be removed in a future version. Please adapt your code to use either `displot` (a figure-level function with similar flexibility) or `kdeplot` (an axes-level function for kernel density plots).\n",
            "  warnings.warn(msg, FutureWarning)\n",
            "/usr/local/lib/python3.7/dist-packages/seaborn/distributions.py:2619: FutureWarning: `distplot` is a deprecated function and will be removed in a future version. Please adapt your code to use either `displot` (a figure-level function with similar flexibility) or `kdeplot` (an axes-level function for kernel density plots).\n",
            "  warnings.warn(msg, FutureWarning)\n",
            "/usr/local/lib/python3.7/dist-packages/seaborn/distributions.py:2619: FutureWarning: `distplot` is a deprecated function and will be removed in a future version. Please adapt your code to use either `displot` (a figure-level function with similar flexibility) or `kdeplot` (an axes-level function for kernel density plots).\n",
            "  warnings.warn(msg, FutureWarning)\n",
            "/usr/local/lib/python3.7/dist-packages/seaborn/distributions.py:2619: FutureWarning: `distplot` is a deprecated function and will be removed in a future version. Please adapt your code to use either `displot` (a figure-level function with similar flexibility) or `kdeplot` (an axes-level function for kernel density plots).\n",
            "  warnings.warn(msg, FutureWarning)\n",
            "/usr/local/lib/python3.7/dist-packages/seaborn/distributions.py:2619: FutureWarning: `distplot` is a deprecated function and will be removed in a future version. Please adapt your code to use either `displot` (a figure-level function with similar flexibility) or `kdeplot` (an axes-level function for kernel density plots).\n",
            "  warnings.warn(msg, FutureWarning)\n",
            "/usr/local/lib/python3.7/dist-packages/seaborn/distributions.py:2619: FutureWarning: `distplot` is a deprecated function and will be removed in a future version. Please adapt your code to use either `displot` (a figure-level function with similar flexibility) or `kdeplot` (an axes-level function for kernel density plots).\n",
            "  warnings.warn(msg, FutureWarning)\n"
          ]
        },
        {
          "output_type": "stream",
          "name": "stdout",
          "text": [
            "Option Maturity = 60\n",
            "Dep-MVH: Ave = 11.44, Std = 6.17\n",
            "Deep-MVH-pasted: Ave = 7.19, Std = 7.20\n",
            "RL-DDPG: Ave = 1.19, Std = 5.37\n",
            "\n",
            "Option Maturity = 90\n",
            "Dep-MVH: Ave = 14.38, Std = 8.09\n",
            "Deep-MVH-pasted: Ave = 11.28, Std = 12.34\n",
            "RL-DDPG: Ave = 1.17, Std = 6.01\n",
            "\n"
          ]
        },
        {
          "output_type": "stream",
          "name": "stderr",
          "text": [
            "/usr/local/lib/python3.7/dist-packages/seaborn/distributions.py:2619: FutureWarning: `distplot` is a deprecated function and will be removed in a future version. Please adapt your code to use either `displot` (a figure-level function with similar flexibility) or `kdeplot` (an axes-level function for kernel density plots).\n",
            "  warnings.warn(msg, FutureWarning)\n",
            "/usr/local/lib/python3.7/dist-packages/seaborn/distributions.py:2619: FutureWarning: `distplot` is a deprecated function and will be removed in a future version. Please adapt your code to use either `displot` (a figure-level function with similar flexibility) or `kdeplot` (an axes-level function for kernel density plots).\n",
            "  warnings.warn(msg, FutureWarning)\n"
          ]
        },
        {
          "output_type": "stream",
          "name": "stdout",
          "text": [
            "Option Maturity = 120\n",
            "Dep-MVH: Ave = 20.34, Std = 11.56\n",
            "Deep-MVH-pasted: Ave = 16.93, Std = 19.30\n",
            "RL-DDPG: Ave = 1.01, Std = 6.81\n",
            "\n"
          ]
        },
        {
          "output_type": "display_data",
          "data": {
            "text/plain": [
              "<Figure size 1080x216 with 3 Axes>"
            ],
            "image/png": "[encoded data removed]"
          },
          "metadata": {
            "needs_background": "light"
          }
        }
      ]
    },
    {
      "cell_type": "code",
      "source": [],
      "metadata": {
        "id": "ahE5aFBj_OS8"
      },
      "id": "ahE5aFBj_OS8",
      "execution_count": null,
      "outputs": []
    }
  ],
  "metadata": {
    "colab": {
      "provenance": []
    },
    "kernelspec": {
      "display_name": "Python 3",
      "language": "python",
      "name": "python3"
    },
    "language_info": {
      "codemirror_mode": {
        "name": "ipython",
        "version": 3
      },
      "file_extension": ".py",
      "mimetype": "text/x-python",
      "name": "python",
      "nbconvert_exporter": "python",
      "pygments_lexer": "ipython3",
      "version": "3.8.5"
    }
  },
  "nbformat": 4,
  "nbformat_minor": 5
}